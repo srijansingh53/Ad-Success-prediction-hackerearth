{
  "nbformat": 4,
  "nbformat_minor": 0,
  "metadata": {
    "colab": {
      "name": "EDA.ipynb",
      "provenance": [],
      "include_colab_link": true
    },
    "kernelspec": {
      "name": "python3",
      "display_name": "Python 3"
    }
  },
  "cells": [
    {
      "cell_type": "markdown",
      "metadata": {
        "id": "view-in-github",
        "colab_type": "text"
      },
      "source": [
        "<a href=\"https://colab.research.google.com/github/srijansingh53/Ad-Success-prediction-hackerearth/blob/master/EDA.ipynb\" target=\"_parent\"><img src=\"https://colab.research.google.com/assets/colab-badge.svg\" alt=\"Open In Colab\"/></a>"
      ]
    },
    {
      "cell_type": "code",
      "metadata": {
        "id": "UZ96jdSt5ejW",
        "colab_type": "code",
        "colab": {}
      },
      "source": [
        "from google.colab import drive\n",
        "drive.mount('/content/drive')"
      ],
      "execution_count": 0,
      "outputs": []
    },
    {
      "cell_type": "code",
      "metadata": {
        "id": "j_RggB3X6tcl",
        "colab_type": "code",
        "colab": {}
      },
      "source": [
        "import os\n",
        "import pandas as pd\n",
        "import numpy as np\n",
        "import matplotlib.pyplot as plt\n",
        "import seaborn as sns\n",
        "from sklearn.preprocessing import LabelEncoder"
      ],
      "execution_count": 0,
      "outputs": []
    },
    {
      "cell_type": "code",
      "metadata": {
        "id": "f40jTz9-7CxO",
        "colab_type": "code",
        "colab": {}
      },
      "source": [
        "os.chdir('/content/drive/My Drive/Machine Learning/hackerearth Ad success/Ad-Success-prediction-hackerearth/')\n",
        "!ls"
      ],
      "execution_count": 0,
      "outputs": []
    },
    {
      "cell_type": "code",
      "metadata": {
        "id": "9pAkDLpK7PTP",
        "colab_type": "code",
        "colab": {
          "base_uri": "https://localhost:8080/",
          "height": 195
        },
        "outputId": "994ccc19-c367-4379-c89f-d89f300807ea"
      },
      "source": [
        "df = pd.read_csv('dataset/Train.csv', encoding='latin-1')\n",
        "df_processed = df.copy()\n",
        "df.head()"
      ],
      "execution_count": 29,
      "outputs": [
        {
          "output_type": "execute_result",
          "data": {
            "text/html": [
              "<div>\n",
              "<style scoped>\n",
              "    .dataframe tbody tr th:only-of-type {\n",
              "        vertical-align: middle;\n",
              "    }\n",
              "\n",
              "    .dataframe tbody tr th {\n",
              "        vertical-align: top;\n",
              "    }\n",
              "\n",
              "    .dataframe thead th {\n",
              "        text-align: right;\n",
              "    }\n",
              "</style>\n",
              "<table border=\"1\" class=\"dataframe\">\n",
              "  <thead>\n",
              "    <tr style=\"text-align: right;\">\n",
              "      <th></th>\n",
              "      <th>id</th>\n",
              "      <th>realtionship_status</th>\n",
              "      <th>industry</th>\n",
              "      <th>genre</th>\n",
              "      <th>targeted_sex</th>\n",
              "      <th>average_runtime(minutes_per_week)</th>\n",
              "      <th>airtime</th>\n",
              "      <th>airlocation</th>\n",
              "      <th>ratings</th>\n",
              "      <th>expensive</th>\n",
              "      <th>money_back_guarantee</th>\n",
              "      <th>netgain</th>\n",
              "    </tr>\n",
              "  </thead>\n",
              "  <tbody>\n",
              "    <tr>\n",
              "      <th>0</th>\n",
              "      <td>19717</td>\n",
              "      <td>Married-spouse-absent</td>\n",
              "      <td>Auto</td>\n",
              "      <td>Comedy</td>\n",
              "      <td>Male</td>\n",
              "      <td>45</td>\n",
              "      <td>Primetime</td>\n",
              "      <td>United-States</td>\n",
              "      <td>0.027465</td>\n",
              "      <td>High</td>\n",
              "      <td>No</td>\n",
              "      <td>False</td>\n",
              "    </tr>\n",
              "    <tr>\n",
              "      <th>1</th>\n",
              "      <td>31593</td>\n",
              "      <td>Married-civ-spouse</td>\n",
              "      <td>Pharma</td>\n",
              "      <td>Comedy</td>\n",
              "      <td>Male</td>\n",
              "      <td>45</td>\n",
              "      <td>Primetime</td>\n",
              "      <td>United-States</td>\n",
              "      <td>0.027465</td>\n",
              "      <td>Low</td>\n",
              "      <td>No</td>\n",
              "      <td>False</td>\n",
              "    </tr>\n",
              "    <tr>\n",
              "      <th>2</th>\n",
              "      <td>5681</td>\n",
              "      <td>Divorced</td>\n",
              "      <td>Entertainment</td>\n",
              "      <td>Comedy</td>\n",
              "      <td>Female</td>\n",
              "      <td>45</td>\n",
              "      <td>Primetime</td>\n",
              "      <td>United-States</td>\n",
              "      <td>0.027465</td>\n",
              "      <td>High</td>\n",
              "      <td>Yes</td>\n",
              "      <td>False</td>\n",
              "    </tr>\n",
              "    <tr>\n",
              "      <th>3</th>\n",
              "      <td>15491</td>\n",
              "      <td>Separated</td>\n",
              "      <td>Political</td>\n",
              "      <td>Infomercial</td>\n",
              "      <td>Female</td>\n",
              "      <td>40</td>\n",
              "      <td>Primetime</td>\n",
              "      <td>United-States</td>\n",
              "      <td>0.027465</td>\n",
              "      <td>Low</td>\n",
              "      <td>No</td>\n",
              "      <td>False</td>\n",
              "    </tr>\n",
              "    <tr>\n",
              "      <th>4</th>\n",
              "      <td>23587</td>\n",
              "      <td>Married-civ-spouse</td>\n",
              "      <td>Pharma</td>\n",
              "      <td>Comedy</td>\n",
              "      <td>Male</td>\n",
              "      <td>48</td>\n",
              "      <td>Primetime</td>\n",
              "      <td>United-States</td>\n",
              "      <td>0.027465</td>\n",
              "      <td>High</td>\n",
              "      <td>No</td>\n",
              "      <td>True</td>\n",
              "    </tr>\n",
              "  </tbody>\n",
              "</table>\n",
              "</div>"
            ],
            "text/plain": [
              "      id    realtionship_status  ... money_back_guarantee netgain\n",
              "0  19717  Married-spouse-absent  ...                   No   False\n",
              "1  31593     Married-civ-spouse  ...                   No   False\n",
              "2   5681               Divorced  ...                  Yes   False\n",
              "3  15491              Separated  ...                   No   False\n",
              "4  23587     Married-civ-spouse  ...                   No    True\n",
              "\n",
              "[5 rows x 12 columns]"
            ]
          },
          "metadata": {
            "tags": []
          },
          "execution_count": 29
        }
      ]
    },
    {
      "cell_type": "code",
      "metadata": {
        "id": "PoCmmxc08qkk",
        "colab_type": "code",
        "colab": {
          "base_uri": "https://localhost:8080/",
          "height": 316
        },
        "outputId": "8c32c5c2-5183-44f0-b711-61eb4fd6407f"
      },
      "source": [
        "df.info()"
      ],
      "execution_count": 9,
      "outputs": [
        {
          "output_type": "stream",
          "text": [
            "<class 'pandas.core.frame.DataFrame'>\n",
            "RangeIndex: 26048 entries, 0 to 26047\n",
            "Data columns (total 12 columns):\n",
            "id                                   26048 non-null int64\n",
            "realtionship_status                  26048 non-null object\n",
            "industry                             26048 non-null object\n",
            "genre                                26048 non-null object\n",
            "targeted_sex                         26048 non-null object\n",
            "average_runtime(minutes_per_week)    26048 non-null int64\n",
            "airtime                              26048 non-null object\n",
            "airlocation                          26048 non-null object\n",
            "ratings                              26048 non-null float64\n",
            "expensive                            26048 non-null object\n",
            "money_back_guarantee                 26048 non-null object\n",
            "netgain                              26048 non-null bool\n",
            "dtypes: bool(1), float64(1), int64(2), object(8)\n",
            "memory usage: 2.2+ MB\n"
          ],
          "name": "stdout"
        }
      ]
    },
    {
      "cell_type": "code",
      "metadata": {
        "id": "mwVXF06J9M0u",
        "colab_type": "code",
        "colab": {
          "base_uri": "https://localhost:8080/",
          "height": 246
        },
        "outputId": "584844a2-a537-47ad-d0b2-427937230db6"
      },
      "source": [
        "df.dtypes"
      ],
      "execution_count": 10,
      "outputs": [
        {
          "output_type": "execute_result",
          "data": {
            "text/plain": [
              "id                                     int64\n",
              "realtionship_status                   object\n",
              "industry                              object\n",
              "genre                                 object\n",
              "targeted_sex                          object\n",
              "average_runtime(minutes_per_week)      int64\n",
              "airtime                               object\n",
              "airlocation                           object\n",
              "ratings                              float64\n",
              "expensive                             object\n",
              "money_back_guarantee                  object\n",
              "netgain                                 bool\n",
              "dtype: object"
            ]
          },
          "metadata": {
            "tags": []
          },
          "execution_count": 10
        }
      ]
    },
    {
      "cell_type": "code",
      "metadata": {
        "id": "bXhauBrCAv1y",
        "colab_type": "code",
        "colab": {
          "base_uri": "https://localhost:8080/",
          "height": 246
        },
        "outputId": "ac0cd332-0a80-484f-99ba-481e3189a0c7"
      },
      "source": [
        "df.isnull().sum()"
      ],
      "execution_count": 22,
      "outputs": [
        {
          "output_type": "execute_result",
          "data": {
            "text/plain": [
              "id                                   0\n",
              "realtionship_status                  0\n",
              "industry                             0\n",
              "genre                                0\n",
              "targeted_sex                         0\n",
              "average_runtime(minutes_per_week)    0\n",
              "airtime                              0\n",
              "airlocation                          0\n",
              "ratings                              0\n",
              "expensive                            0\n",
              "money_back_guarantee                 0\n",
              "netgain                              0\n",
              "dtype: int64"
            ]
          },
          "metadata": {
            "tags": []
          },
          "execution_count": 22
        }
      ]
    },
    {
      "cell_type": "code",
      "metadata": {
        "id": "yhnL0tyo7eWw",
        "colab_type": "code",
        "colab": {
          "base_uri": "https://localhost:8080/",
          "height": 297
        },
        "outputId": "b436a4b1-1bd7-4ab1-a738-65eb6fc6229c"
      },
      "source": [
        "sns.countplot(df.netgain)\n",
        "plt.xlabel('Gain?')\n",
        "plt.ylabel('Number of user ratings')"
      ],
      "execution_count": 7,
      "outputs": [
        {
          "output_type": "execute_result",
          "data": {
            "text/plain": [
              "Text(0, 0.5, 'Number of user ratings')"
            ]
          },
          "metadata": {
            "tags": []
          },
          "execution_count": 7
        },
        {
          "output_type": "display_data",
          "data": {
            "image/png": "[encoded data removed]",
            "text/plain": [
              "<Figure size 432x288 with 1 Axes>"
            ]
          },
          "metadata": {
            "tags": []
          }
        }
      ]
    },
    {
      "cell_type": "code",
      "metadata": {
        "id": "yVAEwKuS7i2f",
        "colab_type": "code",
        "colab": {
          "base_uri": "https://localhost:8080/",
          "height": 298
        },
        "outputId": "be00c7b7-40a7-4693-9af7-33352b7d80a4"
      },
      "source": [
        "sns.scatterplot(x=\"average_runtime(minutes_per_week)\", y=\"ratings\", hue=\"netgain\", data=df)"
      ],
      "execution_count": 16,
      "outputs": [
        {
          "output_type": "execute_result",
          "data": {
            "text/plain": [
              "<matplotlib.axes._subplots.AxesSubplot at 0x7f149e1f9f60>"
            ]
          },
          "metadata": {
            "tags": []
          },
          "execution_count": 16
        },
        {
          "output_type": "display_data",
          "data": {
            "image/png": "[encoded data removed]",
            "text/plain": [
              "<Figure size 432x288 with 1 Axes>"
            ]
          },
          "metadata": {
            "tags": []
          }
        }
      ]
    },
    {
      "cell_type": "code",
      "metadata": {
        "id": "vch-27p48L9K",
        "colab_type": "code",
        "colab": {
          "base_uri": "https://localhost:8080/",
          "height": 297
        },
        "outputId": "a6ec5c96-3569-4197-beb2-d160a058b66b"
      },
      "source": [
        "sns.scatterplot(x=\"netgain\", y=\"ratings\", hue=\"airtime\", data=df)"
      ],
      "execution_count": 15,
      "outputs": [
        {
          "output_type": "execute_result",
          "data": {
            "text/plain": [
              "<matplotlib.axes._subplots.AxesSubplot at 0x7f149e27cf60>"
            ]
          },
          "metadata": {
            "tags": []
          },
          "execution_count": 15
        },
        {
          "output_type": "display_data",
          "data": {
            "image/png": "[encoded data removed]",
            "text/plain": [
              "<Figure size 432x288 with 1 Axes>"
            ]
          },
          "metadata": {
            "tags": []
          }
        }
      ]
    },
    {
      "cell_type": "code",
      "metadata": {
        "id": "Xt0NYOal-AIo",
        "colab_type": "code",
        "colab": {
          "base_uri": "https://localhost:8080/",
          "height": 298
        },
        "outputId": "2a59fc19-0a92-47d0-dbae-a3a2f894407f"
      },
      "source": [
        "sns.distplot( df['average_runtime(minutes_per_week)'], kde=False)"
      ],
      "execution_count": 20,
      "outputs": [
        {
          "output_type": "execute_result",
          "data": {
            "text/plain": [
              "<matplotlib.axes._subplots.AxesSubplot at 0x7f149dfcf0f0>"
            ]
          },
          "metadata": {
            "tags": []
          },
          "execution_count": 20
        },
        {
          "output_type": "display_data",
          "data": {
            "image/png": "[encoded data removed]",
            "text/plain": [
              "<Figure size 432x288 with 1 Axes>"
            ]
          },
          "metadata": {
            "tags": []
          }
        }
      ]
    },
    {
      "cell_type": "code",
      "metadata": {
        "id": "gPe7RtXCCS2j",
        "colab_type": "code",
        "colab": {
          "base_uri": "https://localhost:8080/",
          "height": 462
        },
        "outputId": "a37845e5-db84-4f0b-ac9a-2093feda686d"
      },
      "source": [
        "sns.heatmap(df.corr(), cmap='Blues', annot=False)"
      ],
      "execution_count": 24,
      "outputs": [
        {
          "output_type": "execute_result",
          "data": {
            "text/plain": [
              "<matplotlib.axes._subplots.AxesSubplot at 0x7f149d95a940>"
            ]
          },
          "metadata": {
            "tags": []
          },
          "execution_count": 24
        },
        {
          "output_type": "display_data",
          "data": {
            "image/png": "[encoded data removed]",
            "text/plain": [
              "<Figure size 432x288 with 2 Axes>"
            ]
          },
          "metadata": {
            "tags": []
          }
        }
      ]
    },
    {
      "cell_type": "code",
      "metadata": {
        "id": "UNPeYBW5EXac",
        "colab_type": "code",
        "colab": {}
      },
      "source": [
        "labelencoder = LabelEncoder()\n",
        "df['']"
      ],
      "execution_count": 0,
      "outputs": []
    },
    {
      "cell_type": "code",
      "metadata": {
        "id": "QJ8aZ4eyGTaj",
        "colab_type": "code",
        "colab": {}
      },
      "source": [
        ""
      ],
      "execution_count": 0,
      "outputs": []
    }
  ]
}